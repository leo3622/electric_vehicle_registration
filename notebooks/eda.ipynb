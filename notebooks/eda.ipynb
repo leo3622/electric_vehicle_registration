{
 "cells": [
  {
   "cell_type": "code",
   "execution_count": null,
   "id": "512ba08a",
   "metadata": {},
   "outputs": [],
   "source": []
  }
 ],
 "metadata": {
  "language_info": {
   "name": "python"
  }
 },
 "nbformat": 4,
 "nbformat_minor": 5
}
